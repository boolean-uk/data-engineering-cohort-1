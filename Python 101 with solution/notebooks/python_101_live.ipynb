{
 "cells": [
  {
   "cell_type": "markdown",
   "id": "21618991-c513-4f0d-b787-52d815b8b83d",
   "metadata": {},
   "source": [
    "# Python for Data Engineering – Live Coding Session\n",
    "\n",
    "This notebook covers:\n",
    "\n",
    "- Poetry & project structure\n",
    "- Python core data structures\n",
    "- Numpy for efficient computation\n",
    "- Pandas for tabular data manipulation\n",
    "- FastAPI basics to expose data as APIs\n"
   ]
  },
  {
   "cell_type": "markdown",
   "id": "8e625287-1199-4aa3-98b2-698a76cd93ba",
   "metadata": {},
   "source": [
    "## 1. Poetry & Project Structure\n",
    "\n",
    "> Run these in your terminal (not notebook)\n",
    "\n",
    "```bash\n",
    "poetry init\n",
    "poetry add numpy pandas fastapi uvicorn jupyter pydantic\n",
    "\n",
    "Project layout:\n",
    "my_project/\n",
    "├── pyproject.toml\n",
    "├── notebooks/\n",
    "├── src/\n",
    "├── data/\n",
    "└── app.py\n"
   ]
  },
  {
   "cell_type": "markdown",
   "id": "7fe2f2fc-34c2-4312-aff0-4cf2d6492bce",
   "metadata": {},
   "source": [
    "## 2. Python Essentials Refresher"
   ]
  },
  {
   "cell_type": "code",
   "execution_count": 5,
   "id": "c3b4b1f0-4cde-4ba7-973b-26ab95df78bc",
   "metadata": {},
   "outputs": [
    {
     "name": "stdout",
     "output_type": "stream",
     "text": [
      "This is an array -> [0, 1, 2, 3, 4, 5, 6, 7, 8, 9]\n",
      "This is another array -> [0, 1, 4, 9, 16, 25, 36, 49, 64, 81]\n",
      "Yet another array -> [0, 4, 16, 36, 64]\n",
      "This is a dictionary -> {'alice': 95, 'bob': 90, 'charlie': 85}\n",
      "This is a sorted dictionary -> {'alice': 95, 'bob': 90, 'charlie': 85}\n",
      "This is a set -> {90, 85, 95}\n",
      "This is a tuple -> ('alice', 85)\n",
      "0: alice scored 95\n",
      "1: bob scored 90\n",
      "2: charlie scored 85\n"
     ]
    }
   ],
   "source": [
    "# Lists and comprehensions\n",
    "numbers = list(range(10))\n",
    "print(f\"This is an array -> {numbers}\")\n",
    "squares = [n**2 for n in numbers]\n",
    "print(f\"This is another array -> {squares}\")\n",
    "even_squares = [n for n in squares if n % 2 == 0]\n",
    "print(f\"Yet another array -> {even_squares}\")\n",
    "\n",
    "\n",
    "# Dictionaries\n",
    "students = {\"alice\": 95, \"bob\": 90, \"charlie\": 85}\n",
    "print(f\"This is a dictionary -> {students}\")\n",
    "sorted_students = dict(sorted(students.items(), key=lambda item: item[1], reverse=True))\n",
    "print(f\"This is a sorted dictionary -> {sorted_students}\")\n",
    "\n",
    "# Sets and Tuples\n",
    "unique_scores = set(students.values())\n",
    "print(f\"This is a set -> {unique_scores}\")\n",
    "example_tuple = (\"alice\", 85)\n",
    "print(f\"This is a tuple -> {example_tuple}\")\n",
    "\n",
    "# Enumerate and zip\n",
    "names = [\"alice\", \"bob\", \"charlie\"]\n",
    "grades = [95, 90, 85]\n",
    "for i, (n, g) in enumerate(zip(names, grades)):\n",
    "    print(f\"{i}: {n} scored {g}\")\n"
   ]
  },
  {
   "cell_type": "markdown",
   "id": "1cea87d8-31b9-47f8-a4bf-a7f2b7d9aa2a",
   "metadata": {},
   "source": [
    "## 3. Numpy Basics"
   ]
  },
  {
   "cell_type": "code",
   "execution_count": 7,
   "id": "2e1a04dc-60c5-4d7f-b046-9a156d3f704d",
   "metadata": {},
   "outputs": [
    {
     "name": "stdout",
     "output_type": "stream",
     "text": [
      "Matrix:\n",
      " [[1 2]\n",
      " [3 4]]\n",
      "Transpose:\n",
      " [[1 3]\n",
      " [2 4]]\n",
      "Dot product:\n",
      " [[ 7 10]\n",
      " [15 22]]\n",
      "Random Data:\n",
      " [[53 33 67 48 30]\n",
      " [28 22 50 72  5]\n",
      " [99 65 95 41 85]\n",
      " [93 41 63 93 82]\n",
      " [29 17 48 16 62]]\n",
      "Values > 50:\n",
      " [53 67 72 99 65 95 85 93 63 93 82 62]\n"
     ]
    }
   ],
   "source": [
    "import numpy as np\n",
    "\n",
    "matrix = np.array([[1, 2], [3, 4]])\n",
    "print(\"Matrix:\\n\", matrix)\n",
    "print(\"Transpose:\\n\", matrix.T)\n",
    "print(\"Dot product:\\n\", np.dot(matrix, matrix))\n",
    "\n",
    "# Random data and filtering\n",
    "data = np.random.randint(1, 100, size=(5, 5))\n",
    "print(\"Random Data:\\n\", data)\n",
    "print(\"Values > 50:\\n\", data[data > 50])\n"
   ]
  },
  {
   "cell_type": "markdown",
   "id": "9539ef78-e0d2-46b1-b05a-fecf68ab5c16",
   "metadata": {},
   "source": [
    "## 4. Pandas Basics"
   ]
  },
  {
   "cell_type": "code",
   "execution_count": 9,
   "id": "cec86fa1-8c20-4a53-86ff-8a57bea9ba78",
   "metadata": {
    "scrolled": true
   },
   "outputs": [
    {
     "name": "stdout",
     "output_type": "stream",
     "text": [
      "\n",
      "Merged DataFrame:\n",
      "    order_id  customer_id  amount order_date     name signup_date region  \\\n",
      "0         1          101     100 2023-03-01    Alice  2023-01-15  North   \n",
      "1         2          102     150 2023-03-05      Bob  2023-02-01  South   \n",
      "2         3          101     200 2023-03-07    Alice  2023-01-15  North   \n",
      "3         4          103     130 2023-03-15  Charlie  2023-03-20  North   \n",
      "4         5          102     170 2023-03-22      Bob  2023-02-01  South   \n",
      "\n",
      "   days_since_signup                   week  \n",
      "0                 45  2023-02-27/2023-03-05  \n",
      "1                 32  2023-02-27/2023-03-05  \n",
      "2                 51  2023-03-06/2023-03-12  \n",
      "3                 -5  2023-03-13/2023-03-19  \n",
      "4                 49  2023-03-20/2023-03-26  \n",
      "\n",
      "Early Orders (within 30 days of signup):\n",
      "    order_id  customer_id  amount order_date     name signup_date region  \\\n",
      "3         4          103     130 2023-03-15  Charlie  2023-03-20  North   \n",
      "5         6          104     120 2023-03-25    Diana  2023-04-05   East   \n",
      "6         7          104     180 2023-04-01    Diana  2023-04-05   East   \n",
      "8         9          103     200 2023-04-04  Charlie  2023-03-20  North   \n",
      "9        10          104     220 2023-04-10    Diana  2023-04-05   East   \n",
      "\n",
      "   days_since_signup  \n",
      "3                 -5  \n",
      "5                -11  \n",
      "6                 -4  \n",
      "8                 15  \n",
      "9                  5  \n",
      "\n",
      "Customer Aggregates:\n",
      "    customer_id  total_spent  avg_order_value  order_count\n",
      "0          101          390       130.000000            3\n",
      "1          102          320       160.000000            2\n",
      "2          103          330       165.000000            2\n",
      "3          104          520       173.333333            3\n",
      "\n",
      "Revenue by Region:\n",
      " region\n",
      "North    720\n",
      "East     520\n",
      "South    320\n",
      "Name: amount, dtype: int64\n",
      "\n",
      "Weekly Sales Trend:\n",
      " week\n",
      "2023-02-27/2023-03-05    250\n",
      "2023-03-06/2023-03-12    200\n",
      "2023-03-13/2023-03-19    130\n",
      "2023-03-20/2023-03-26    290\n",
      "2023-03-27/2023-04-02    270\n",
      "2023-04-03/2023-04-09    200\n",
      "2023-04-10/2023-04-16    220\n",
      "Freq: W-SUN, Name: amount, dtype: int64\n",
      "\n",
      "Customers with No Orders before filtering:\n",
      "    customer_id     _merge\n",
      "0          101       both\n",
      "1          102       both\n",
      "2          103       both\n",
      "3          104       both\n",
      "4          105  left_only\n",
      "\n",
      "Customers with No Orders:\n",
      "    customer_id     _merge\n",
      "4          105  left_only\n"
     ]
    }
   ],
   "source": [
    "import pandas as pd\n",
    "import numpy as np\n",
    "\n",
    "# Simulated customer data\n",
    "customers = pd.DataFrame({\n",
    "    'customer_id': [101, 102, 103, 104,105],\n",
    "    'name': ['Alice', 'Bob', 'Charlie', 'Diana', 'Eric'],\n",
    "    'signup_date': pd.to_datetime(['2023-01-15', '2023-02-01', '2023-03-20', '2023-04-05', '2023-04-05']),\n",
    "    'region': ['North', 'South', 'North', 'East', 'East']\n",
    "})\n",
    "\n",
    "# Simulated orders data\n",
    "orders = pd.DataFrame({\n",
    "    'order_id': range(1, 11),\n",
    "    'customer_id': [101, 102, 101, 103, 102, 104, 104, 101, 103, 104],\n",
    "    'amount': [100, 150, 200, 130, 170, 120, 180, 90, 200, 220],\n",
    "    'order_date': pd.to_datetime([\n",
    "        '2023-03-01', '2023-03-05', '2023-03-07', '2023-03-15', '2023-03-22',\n",
    "        '2023-03-25', '2023-04-01', '2023-04-02', '2023-04-04', '2023-04-10'\n",
    "    ])\n",
    "})\n",
    "\n",
    "# 1. Merge customer and order data\n",
    "df = orders.merge(customers, on='customer_id', how='left')\n",
    "\n",
    "# 2. Add a calculated column: days since signup\n",
    "df['days_since_signup'] = (df['order_date'] - df['signup_date']).dt.days\n",
    "\n",
    "# 3. Filter orders placed within 30 days of signup\n",
    "early_orders = df[df['days_since_signup'] <= 30]\n",
    "\n",
    "# 4. Aggregate: total amount spent per customer and average order value\n",
    "agg = df.groupby('customer_id').agg(\n",
    "    total_spent=('amount', 'sum'),\n",
    "    avg_order_value=('amount', 'mean'),\n",
    "    order_count=('order_id', 'count')\n",
    ").reset_index()\n",
    "\n",
    "# 5. Region-based analysis: total revenue per region\n",
    "region_revenue = df.groupby('region')['amount'].sum().sort_values(ascending=False)\n",
    "\n",
    "# 6. Time-based trend: total sales by week\n",
    "df['week'] = df['order_date'].dt.to_period('W')\n",
    "weekly_sales = df.groupby('week')['amount'].sum()\n",
    "\n",
    "# 7. Identify customers with no orders (outer join)\n",
    "all_customers = pd.DataFrame({'customer_id': customers['customer_id']})\n",
    "customers_with_orders = pd.DataFrame({'customer_id': orders['customer_id'].unique()})\n",
    "no_orders_raw = all_customers.merge(customers_with_orders, on='customer_id', how='left', indicator=True)\n",
    "no_orders_filtered = no_orders_raw[no_orders_raw['_merge'] == 'left_only']\n",
    "\n",
    "# OUTPUT\n",
    "print(\"\\nMerged DataFrame:\\n\", df.head())\n",
    "print(\"\\nEarly Orders (within 30 days of signup):\\n\", early_orders)\n",
    "print(\"\\nCustomer Aggregates:\\n\", agg)\n",
    "print(\"\\nRevenue by Region:\\n\", region_revenue)\n",
    "print(\"\\nWeekly Sales Trend:\\n\", weekly_sales)\n",
    "print(\"\\nCustomers with No Orders before filtering:\\n\", no_orders_raw)\n",
    "print(\"\\nCustomers with No Orders:\\n\", no_orders_filtered)\n"
   ]
  },
  {
   "cell_type": "markdown",
   "id": "96dfcabd-93f2-45b0-b59a-39a906e4338d",
   "metadata": {},
   "source": [
    "## 5. Pandas Advanced"
   ]
  },
  {
   "cell_type": "code",
   "execution_count": 12,
   "id": "5db76bf7-3615-4cb3-a7e3-3b515464b558",
   "metadata": {},
   "outputs": [
    {
     "name": "stdout",
     "output_type": "stream",
     "text": [
      "\n",
      "Data with ROW_NUMBER-like column:\n",
      "    customer_id  order_id order_date  order_rank\n",
      "0          101         1 2023-03-01           1\n",
      "2          101         3 2023-03-07           2\n",
      "7          101         8 2023-04-02           3\n",
      "1          102         2 2023-03-05           1\n",
      "4          102         5 2023-03-22           2\n",
      "3          103         4 2023-03-15           1\n",
      "8          103         9 2023-04-04           2\n",
      "5          104         6 2023-03-25           1\n",
      "6          104         7 2023-04-01           2\n",
      "9          104        10 2023-04-10           3\n",
      "\n",
      "First 2 Orders per Customer:\n",
      "    customer_id  order_id order_date  order_rank\n",
      "0          101         1 2023-03-01           1\n",
      "2          101         3 2023-03-07           2\n",
      "1          102         2 2023-03-05           1\n",
      "4          102         5 2023-03-22           2\n",
      "3          103         4 2023-03-15           1\n",
      "8          103         9 2023-04-04           2\n",
      "5          104         6 2023-03-25           1\n",
      "6          104         7 2023-04-01           2\n"
     ]
    }
   ],
   "source": [
    "df['order_rank'] = df.sort_values(['customer_id', 'order_date']) \\\n",
    "                     .groupby('customer_id') \\\n",
    "                     .cumcount() + 1  # Equivalent to ROW_NUMBER() OVER (PARTITION BY customer_id ORDER BY order_date)\n",
    "\n",
    "# You can also use rank() for dense_rank or percent_rank\n",
    "# df['order_rank'] = df.groupby('customer_id')['order_date'].rank(method='first')\n",
    "\n",
    "# Show the first few orders per customer\n",
    "top_orders = df[df['order_rank'] <= 2].sort_values(['customer_id', 'order_rank'])\n",
    "\n",
    "# OUTPUT\n",
    "print(\"\\nData with ROW_NUMBER-like column:\\n\", df[['customer_id', 'order_id', 'order_date', 'order_rank']].sort_values(['customer_id', 'order_rank']))\n",
    "print(\"\\nFirst 2 Orders per Customer:\\n\", top_orders[['customer_id', 'order_id', 'order_date', 'order_rank']])"
   ]
  },
  {
   "cell_type": "markdown",
   "id": "f4811fd8-e261-4ec7-be6b-f1c9bc84a49d",
   "metadata": {},
   "source": [
    "## 6. FastAPI Example (Save as `app.py`)"
   ]
  },
  {
   "cell_type": "code",
   "execution_count": null,
   "id": "c8c49e21-aacc-4844-bad4-6d657987c4b1",
   "metadata": {},
   "outputs": [],
   "source": [
    "from fastapi import FastAPI\n",
    "from pydantic import BaseModel\n",
    "\n",
    "app = FastAPI()\n",
    "\n",
    "class Customer(BaseModel):\n",
    "    id: int\n",
    "    name: str\n",
    "    total_spent: float\n",
    "\n",
    "@app.get(\"/\")\n",
    "def root():\n",
    "    return {\"message\": \"Welcome to the Data API\"}\n",
    "\n",
    "@app.get(\"/customers/top\")\n",
    "def top_customers():\n",
    "    return [\n",
    "        {\"id\": 102, \"name\": \"Bob\", \"total_spent\": 320},\n",
    "        {\"id\": 101, \"name\": \"Alice\", \"total_spent\": 300},\n",
    "        {\"id\": 103, \"name\": \"Charlie\", \"total_spent\": 130}\n",
    "    ]\n",
    "\n",
    "@app.get(\"/customer/{customer_id}\")\n",
    "def get_customer(customer_id: int):\n",
    "    if customer_id == 101:\n",
    "        return {\"name\": \"Alice\", \"total_spent\": 300}\n",
    "    return {\"error\": \"Customer not found\"}\n"
   ]
  },
  {
   "cell_type": "markdown",
   "id": "9c455af4-f635-4a73-bf48-13c45059546a",
   "metadata": {},
   "source": [
    "## 7.Running FastAPI Locally\n",
    "\n",
    "1. Save the FastAPI code to `app.py`\n",
    "2. Run this in your terminal:\n",
    "\n",
    "```bash\n",
    "uvicorn app:app --reload\n",
    "\n",
    "3. Open your browser at:\n",
    " http://127.0.0.1:8000/docs\n",
    " to test the API interactively.\n",
    "\n",
    "\n"
   ]
  }
 ],
 "metadata": {
  "kernelspec": {
   "display_name": "Python 3 (ipykernel)",
   "language": "python",
   "name": "python3"
  },
  "language_info": {
   "codemirror_mode": {
    "name": "ipython",
    "version": 3
   },
   "file_extension": ".py",
   "mimetype": "text/x-python",
   "name": "python",
   "nbconvert_exporter": "python",
   "pygments_lexer": "ipython3",
   "version": "3.9.6"
  }
 },
 "nbformat": 4,
 "nbformat_minor": 5
}
